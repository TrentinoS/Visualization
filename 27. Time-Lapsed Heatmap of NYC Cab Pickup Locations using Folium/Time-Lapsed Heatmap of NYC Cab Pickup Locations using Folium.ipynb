{
 "cells": [
  {
   "cell_type": "markdown",
   "id": "6416ac3d",
   "metadata": {},
   "source": [
    "###### Steps to Making the Magic Happen:\n",
    "\n",
    "- Data preprocessing to get the hour and day of week for all entries in my training set.\n",
    "- Used folium package to plot heatmaps of lat/long coordinates by time and day of week and saved these heatmaps in .html format\n",
    "- Used selenium to open .html files in chronological order and take screenshots of every heatmap to save as .png format\n",
    "- Defined function to animate .png files as .gifs, and stitched .png files together to create the .gif file shown above!"
   ]
  },
  {
   "cell_type": "markdown",
   "id": "ba35ef93",
   "metadata": {},
   "source": [
    "# Import Packages"
   ]
  },
  {
   "cell_type": "code",
   "execution_count": 1,
   "id": "4290cc81",
   "metadata": {
    "ExecuteTime": {
     "end_time": "2021-07-12T15:08:13.187835Z",
     "start_time": "2021-07-12T15:08:05.228722Z"
    }
   },
   "outputs": [],
   "source": [
    "import pandas as pd\n",
    "import numpy as np\n",
    "import time \n",
    "\n",
    "import folium\n",
    "from folium.plugins import HeatMap\n",
    "from IPython.display import IFrame\n",
    "\n",
    "import os\n",
    "import time\n",
    "from selenium import webdriver\n",
    "from PIL import Image \n",
    "import glob"
   ]
  },
  {
   "cell_type": "markdown",
   "id": "2d6ea8c4",
   "metadata": {},
   "source": [
    "This is from the New York City Trip Duration Kaggle competition from 2017 where the goal of this project is to predict the trip duration of each ride. The target label is trip_duration."
   ]
  },
  {
   "cell_type": "markdown",
   "id": "0d06dddd",
   "metadata": {},
   "source": [
    "# Import Data"
   ]
  },
  {
   "cell_type": "code",
   "execution_count": 2,
   "id": "456272f3",
   "metadata": {
    "ExecuteTime": {
     "end_time": "2021-07-12T15:08:19.559196Z",
     "start_time": "2021-07-12T15:08:13.193833Z"
    }
   },
   "outputs": [],
   "source": [
    "df_train = pd.read_csv('Data/train.csv')"
   ]
  },
  {
   "cell_type": "code",
   "execution_count": 3,
   "id": "790453ce",
   "metadata": {
    "ExecuteTime": {
     "end_time": "2021-07-12T15:08:19.623159Z",
     "start_time": "2021-07-12T15:08:19.565194Z"
    }
   },
   "outputs": [
    {
     "data": {
      "text/html": [
       "<div>\n",
       "<style scoped>\n",
       "    .dataframe tbody tr th:only-of-type {\n",
       "        vertical-align: middle;\n",
       "    }\n",
       "\n",
       "    .dataframe tbody tr th {\n",
       "        vertical-align: top;\n",
       "    }\n",
       "\n",
       "    .dataframe thead th {\n",
       "        text-align: right;\n",
       "    }\n",
       "</style>\n",
       "<table border=\"1\" class=\"dataframe\">\n",
       "  <thead>\n",
       "    <tr style=\"text-align: right;\">\n",
       "      <th></th>\n",
       "      <th>id</th>\n",
       "      <th>vendor_id</th>\n",
       "      <th>pickup_datetime</th>\n",
       "      <th>dropoff_datetime</th>\n",
       "      <th>passenger_count</th>\n",
       "      <th>pickup_longitude</th>\n",
       "      <th>pickup_latitude</th>\n",
       "      <th>dropoff_longitude</th>\n",
       "      <th>dropoff_latitude</th>\n",
       "      <th>store_and_fwd_flag</th>\n",
       "      <th>trip_duration</th>\n",
       "    </tr>\n",
       "  </thead>\n",
       "  <tbody>\n",
       "    <tr>\n",
       "      <th>0</th>\n",
       "      <td>id2875421</td>\n",
       "      <td>2</td>\n",
       "      <td>2016-03-14 17:24:55</td>\n",
       "      <td>2016-03-14 17:32:30</td>\n",
       "      <td>1</td>\n",
       "      <td>-73.982155</td>\n",
       "      <td>40.767937</td>\n",
       "      <td>-73.964630</td>\n",
       "      <td>40.765602</td>\n",
       "      <td>N</td>\n",
       "      <td>455</td>\n",
       "    </tr>\n",
       "    <tr>\n",
       "      <th>1</th>\n",
       "      <td>id2377394</td>\n",
       "      <td>1</td>\n",
       "      <td>2016-06-12 00:43:35</td>\n",
       "      <td>2016-06-12 00:54:38</td>\n",
       "      <td>1</td>\n",
       "      <td>-73.980415</td>\n",
       "      <td>40.738564</td>\n",
       "      <td>-73.999481</td>\n",
       "      <td>40.731152</td>\n",
       "      <td>N</td>\n",
       "      <td>663</td>\n",
       "    </tr>\n",
       "    <tr>\n",
       "      <th>2</th>\n",
       "      <td>id3858529</td>\n",
       "      <td>2</td>\n",
       "      <td>2016-01-19 11:35:24</td>\n",
       "      <td>2016-01-19 12:10:48</td>\n",
       "      <td>1</td>\n",
       "      <td>-73.979027</td>\n",
       "      <td>40.763939</td>\n",
       "      <td>-74.005333</td>\n",
       "      <td>40.710087</td>\n",
       "      <td>N</td>\n",
       "      <td>2124</td>\n",
       "    </tr>\n",
       "    <tr>\n",
       "      <th>3</th>\n",
       "      <td>id3504673</td>\n",
       "      <td>2</td>\n",
       "      <td>2016-04-06 19:32:31</td>\n",
       "      <td>2016-04-06 19:39:40</td>\n",
       "      <td>1</td>\n",
       "      <td>-74.010040</td>\n",
       "      <td>40.719971</td>\n",
       "      <td>-74.012268</td>\n",
       "      <td>40.706718</td>\n",
       "      <td>N</td>\n",
       "      <td>429</td>\n",
       "    </tr>\n",
       "    <tr>\n",
       "      <th>4</th>\n",
       "      <td>id2181028</td>\n",
       "      <td>2</td>\n",
       "      <td>2016-03-26 13:30:55</td>\n",
       "      <td>2016-03-26 13:38:10</td>\n",
       "      <td>1</td>\n",
       "      <td>-73.973053</td>\n",
       "      <td>40.793209</td>\n",
       "      <td>-73.972923</td>\n",
       "      <td>40.782520</td>\n",
       "      <td>N</td>\n",
       "      <td>435</td>\n",
       "    </tr>\n",
       "  </tbody>\n",
       "</table>\n",
       "</div>"
      ],
      "text/plain": [
       "          id  vendor_id      pickup_datetime     dropoff_datetime  \\\n",
       "0  id2875421          2  2016-03-14 17:24:55  2016-03-14 17:32:30   \n",
       "1  id2377394          1  2016-06-12 00:43:35  2016-06-12 00:54:38   \n",
       "2  id3858529          2  2016-01-19 11:35:24  2016-01-19 12:10:48   \n",
       "3  id3504673          2  2016-04-06 19:32:31  2016-04-06 19:39:40   \n",
       "4  id2181028          2  2016-03-26 13:30:55  2016-03-26 13:38:10   \n",
       "\n",
       "   passenger_count  pickup_longitude  pickup_latitude  dropoff_longitude  \\\n",
       "0                1        -73.982155        40.767937         -73.964630   \n",
       "1                1        -73.980415        40.738564         -73.999481   \n",
       "2                1        -73.979027        40.763939         -74.005333   \n",
       "3                1        -74.010040        40.719971         -74.012268   \n",
       "4                1        -73.973053        40.793209         -73.972923   \n",
       "\n",
       "   dropoff_latitude store_and_fwd_flag  trip_duration  \n",
       "0         40.765602                  N            455  \n",
       "1         40.731152                  N            663  \n",
       "2         40.710087                  N           2124  \n",
       "3         40.706718                  N            429  \n",
       "4         40.782520                  N            435  "
      ]
     },
     "execution_count": 3,
     "metadata": {},
     "output_type": "execute_result"
    }
   ],
   "source": [
    "df_train.head()"
   ]
  },
  {
   "cell_type": "code",
   "execution_count": 4,
   "id": "c9a8ee2e",
   "metadata": {
    "ExecuteTime": {
     "end_time": "2021-07-12T15:08:23.983666Z",
     "start_time": "2021-07-12T15:08:19.627158Z"
    }
   },
   "outputs": [],
   "source": [
    "df = df_train[['pickup_datetime', 'pickup_longitude', 'pickup_latitude']].copy()\n",
    "df['day_of_week'] = pd.to_datetime(df['pickup_datetime']).dt.dayofweek\n",
    "df['hour_of_day'] = pd.to_datetime(df['pickup_datetime']).dt.hour"
   ]
  },
  {
   "cell_type": "code",
   "execution_count": 5,
   "id": "61a65afe",
   "metadata": {
    "ExecuteTime": {
     "end_time": "2021-07-12T15:08:24.015649Z",
     "start_time": "2021-07-12T15:08:23.985667Z"
    }
   },
   "outputs": [
    {
     "data": {
      "text/html": [
       "<div>\n",
       "<style scoped>\n",
       "    .dataframe tbody tr th:only-of-type {\n",
       "        vertical-align: middle;\n",
       "    }\n",
       "\n",
       "    .dataframe tbody tr th {\n",
       "        vertical-align: top;\n",
       "    }\n",
       "\n",
       "    .dataframe thead th {\n",
       "        text-align: right;\n",
       "    }\n",
       "</style>\n",
       "<table border=\"1\" class=\"dataframe\">\n",
       "  <thead>\n",
       "    <tr style=\"text-align: right;\">\n",
       "      <th></th>\n",
       "      <th>pickup_datetime</th>\n",
       "      <th>pickup_longitude</th>\n",
       "      <th>pickup_latitude</th>\n",
       "      <th>day_of_week</th>\n",
       "      <th>hour_of_day</th>\n",
       "    </tr>\n",
       "  </thead>\n",
       "  <tbody>\n",
       "    <tr>\n",
       "      <th>0</th>\n",
       "      <td>2016-03-14 17:24:55</td>\n",
       "      <td>-73.982155</td>\n",
       "      <td>40.767937</td>\n",
       "      <td>0</td>\n",
       "      <td>17</td>\n",
       "    </tr>\n",
       "    <tr>\n",
       "      <th>1</th>\n",
       "      <td>2016-06-12 00:43:35</td>\n",
       "      <td>-73.980415</td>\n",
       "      <td>40.738564</td>\n",
       "      <td>6</td>\n",
       "      <td>0</td>\n",
       "    </tr>\n",
       "    <tr>\n",
       "      <th>2</th>\n",
       "      <td>2016-01-19 11:35:24</td>\n",
       "      <td>-73.979027</td>\n",
       "      <td>40.763939</td>\n",
       "      <td>1</td>\n",
       "      <td>11</td>\n",
       "    </tr>\n",
       "    <tr>\n",
       "      <th>3</th>\n",
       "      <td>2016-04-06 19:32:31</td>\n",
       "      <td>-74.010040</td>\n",
       "      <td>40.719971</td>\n",
       "      <td>2</td>\n",
       "      <td>19</td>\n",
       "    </tr>\n",
       "    <tr>\n",
       "      <th>4</th>\n",
       "      <td>2016-03-26 13:30:55</td>\n",
       "      <td>-73.973053</td>\n",
       "      <td>40.793209</td>\n",
       "      <td>5</td>\n",
       "      <td>13</td>\n",
       "    </tr>\n",
       "  </tbody>\n",
       "</table>\n",
       "</div>"
      ],
      "text/plain": [
       "       pickup_datetime  pickup_longitude  pickup_latitude  day_of_week  \\\n",
       "0  2016-03-14 17:24:55        -73.982155        40.767937            0   \n",
       "1  2016-06-12 00:43:35        -73.980415        40.738564            6   \n",
       "2  2016-01-19 11:35:24        -73.979027        40.763939            1   \n",
       "3  2016-04-06 19:32:31        -74.010040        40.719971            2   \n",
       "4  2016-03-26 13:30:55        -73.973053        40.793209            5   \n",
       "\n",
       "   hour_of_day  \n",
       "0           17  \n",
       "1            0  \n",
       "2           11  \n",
       "3           19  \n",
       "4           13  "
      ]
     },
     "execution_count": 5,
     "metadata": {},
     "output_type": "execute_result"
    }
   ],
   "source": [
    "df.head()"
   ]
  },
  {
   "cell_type": "markdown",
   "id": "a81a085c",
   "metadata": {},
   "source": [
    "# Plot Heatmaps of Latitude and Longitude Coordinates"
   ]
  },
  {
   "cell_type": "code",
   "execution_count": 6,
   "id": "c5347b4d",
   "metadata": {
    "ExecuteTime": {
     "end_time": "2021-07-12T15:08:24.143577Z",
     "start_time": "2021-07-12T15:08:24.018649Z"
    }
   },
   "outputs": [],
   "source": [
    "# Function to visualize map\n",
    "def embed_map(map, filename):\n",
    "    map.save(filename)\n",
    "    return IFrame(filename, width='100%', height='500px')"
   ]
  },
  {
   "cell_type": "markdown",
   "id": "2df004a4",
   "metadata": {},
   "source": [
    "# Plot heatmap of lat/long coordinates by hour and day of week"
   ]
  },
  {
   "cell_type": "code",
   "execution_count": 7,
   "id": "c6cc38dd",
   "metadata": {
    "ExecuteTime": {
     "end_time": "2021-07-12T15:08:24.270524Z",
     "start_time": "2021-07-12T15:08:24.147572Z"
    }
   },
   "outputs": [],
   "source": [
    "dow_dict = {0:'Monday', 1:'Tuesday', 2:'Wednesday', 3:'Thursday', 4:'Friday', 5:'Saturday', 6:'Sunday'}"
   ]
  },
  {
   "cell_type": "code",
   "execution_count": 8,
   "id": "54d3dbb1",
   "metadata": {
    "ExecuteTime": {
     "end_time": "2021-07-12T15:09:00.988568Z",
     "start_time": "2021-07-12T15:08:24.273501Z"
    }
   },
   "outputs": [],
   "source": [
    "for i in range(df.day_of_week.min(), df.day_of_week.max()+1):\n",
    "    for j in range(df.hour_of_day.min(), df.hour_of_day.max()+1):    \n",
    "        \n",
    "        # Filter to include only data for each day of week and hour of day\n",
    "        df_geo = df.loc[(df.day_of_week==i) & (df.hour_of_day==j)][['pickup_latitude', 'pickup_longitude']].copy()\n",
    "\n",
    "        # Instantiate map object \n",
    "        map_5 = folium.Map(location=[40.75, -73.96], tiles='openstreetmap', zoom_start=10)\n",
    "\n",
    "        # Plot heatmap\n",
    "        HeatMap(data=df_geo, radius=10).add_to(map_5)\n",
    "\n",
    "        # Get day of week string from dow_dict\n",
    "        d = dow_dict.get(i)\n",
    "        \n",
    "        # Add title to heatmap\n",
    "        title_html = f'''<h3 align=\"center\" style=\"font-size:20px\">\n",
    "                        <b>NYC Cab Pickups at {j}:00 on {d}: {len(df_geo)} rides</b></h3>\n",
    "                     '''\n",
    "        map_5.get_root().html.add_child(folium.Element(title_html))\n",
    "\n",
    "        # Save map\n",
    "        embed_map(map_5, f'Plots/HTML Maps Pickup/{i}_{j}_heatmap.html')"
   ]
  },
  {
   "cell_type": "markdown",
   "id": "01b10a7d",
   "metadata": {},
   "source": [
    "# Automate Screenshots of heatmap files using selenium"
   ]
  },
  {
   "cell_type": "code",
   "execution_count": 9,
   "id": "1fa7f583",
   "metadata": {
    "ExecuteTime": {
     "end_time": "2021-07-12T15:31:04.352275Z",
     "start_time": "2021-07-12T15:09:00.991551Z"
    }
   },
   "outputs": [],
   "source": [
    "for i in range(0, 7):\n",
    "    for j in range(0, 24):\n",
    "        # Set file path\n",
    "        tmpurl=f'E:/Setup/1. Visualization/27. Time-Lapsed Heatmap of NYC Cab Pickup Locations using Folium/Plots/HTML Maps Pickup/{i}_{j}_heatmap.html'\n",
    "        \n",
    "        # Set browser to Chrome\n",
    "        browser = webdriver.Chrome()\n",
    "        \n",
    "        # Open file in browser\n",
    "        browser.get(tmpurl)\n",
    "        \n",
    "        # If hour is < 10, add 0 for sorting purposes and to keep chronological order\n",
    "        if j < 10:\n",
    "            browser.save_screenshot(f'Plots/Maps Pickup PNG/{i}_0{j}_heatmap.png')\n",
    "        else:\n",
    "            browser.save_screenshot(f'Plots/Maps Pickup PNG/{i}_{j}_heatmap.png')\n",
    "        \n",
    "        # Close browser\n",
    "        browser.quit()"
   ]
  },
  {
   "cell_type": "markdown",
   "id": "1997dbb6",
   "metadata": {},
   "source": [
    "# Create Animated .gif file"
   ]
  },
  {
   "cell_type": "code",
   "execution_count": 10,
   "id": "3f69bf99",
   "metadata": {
    "ExecuteTime": {
     "end_time": "2021-07-12T15:31:04.399213Z",
     "start_time": "2021-07-12T15:31:04.363242Z"
    }
   },
   "outputs": [],
   "source": [
    "def png_to_gif(path_to_images, save_file_path, duration=500):\n",
    "    frames = []\n",
    "    \n",
    "    # Retrieve image files\n",
    "    images = glob.glob(f'{path_to_images}')\n",
    "    \n",
    "    # Loop through image files to open, resize them and append them to frames\n",
    "    for i in sorted(images): \n",
    "        im = Image.open(i)\n",
    "        im = im.resize((550,389),Image.ANTIALIAS)\n",
    "        frames.append(im.copy())\n",
    "        \n",
    "    # Save frames/ stitched images as .gif\n",
    "    frames[0].save(f'{save_file_path}', format='GIF', append_images=frames[1:], save_all=True,\n",
    "                   duration=duration, loop=0)"
   ]
  },
  {
   "cell_type": "code",
   "execution_count": 11,
   "id": "de95a4bf",
   "metadata": {
    "ExecuteTime": {
     "end_time": "2021-07-12T15:31:16.025935Z",
     "start_time": "2021-07-12T15:31:04.404210Z"
    }
   },
   "outputs": [],
   "source": [
    "png_to_gif(path_to_images='Plots/Maps Pickup PNG/*.png', \n",
    "           save_file_path='Plots/pickup_heatmap.gif',\n",
    "           duration=500)"
   ]
  }
 ],
 "metadata": {
  "kernelspec": {
   "display_name": "Python 3",
   "language": "python",
   "name": "python3"
  },
  "language_info": {
   "codemirror_mode": {
    "name": "ipython",
    "version": 3
   },
   "file_extension": ".py",
   "mimetype": "text/x-python",
   "name": "python",
   "nbconvert_exporter": "python",
   "pygments_lexer": "ipython3",
   "version": "3.9.5"
  }
 },
 "nbformat": 4,
 "nbformat_minor": 5
}
