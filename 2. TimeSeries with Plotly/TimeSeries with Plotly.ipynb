{
 "cells": [
  {
   "cell_type": "markdown",
   "id": "14ff532e",
   "metadata": {
    "ExecuteTime": {
     "end_time": "2021-06-11T05:01:41.737893Z",
     "start_time": "2021-06-11T05:01:41.153940Z"
    }
   },
   "source": [
    "### Importing Packages"
   ]
  },
  {
   "cell_type": "code",
   "execution_count": null,
   "id": "1261afb9",
   "metadata": {
    "ExecuteTime": {
     "end_time": "2021-06-11T05:26:12.837118Z",
     "start_time": "2021-06-11T05:26:09.624842Z"
    }
   },
   "outputs": [],
   "source": [
    "# Standard data science libraries\n",
    "import pandas as pd\n",
    "import numpy as np\n",
    "\n",
    "# Display all cell outputs\n",
    "from IPython.core.interactiveshell import InteractiveShell\n",
    "InteractiveShell.ast_node_interactivity = 'all'\n",
    "\n",
    "# Visualization\n",
    "import matplotlib.pyplot as plt\n",
    "import seaborn as sns\n",
    "plt.style.use('bmh')\n",
    "\n",
    "# Plotly \n",
    "import chart_studio.plotly as py\n",
    "import plotly.graph_objs as go\n",
    "from plotly.offline import init_notebook_mode, iplot\n",
    "init_notebook_mode(connected=True)"
   ]
  },
  {
   "cell_type": "markdown",
   "id": "02503923",
   "metadata": {},
   "source": [
    "### Building Energy Data\n",
    "\n",
    "For these plots, we will be examining building energy data. We have data for one building, with 3 different types of sensors: Energy, Steam, and Static Pressure. This dataframe has a multiindex on the columns which is a helpful way to keep track of hierarchical relationships. "
   ]
  },
  {
   "cell_type": "code",
   "execution_count": null,
   "id": "7743a59e",
   "metadata": {
    "ExecuteTime": {
     "end_time": "2021-06-11T05:26:12.991766Z",
     "start_time": "2021-06-11T05:26:12.837118Z"
    }
   },
   "outputs": [],
   "source": [
    "# Read in data and convert index to a datetime\n",
    "df = pd.read_csv('building_one.csv')\n",
    "df.head()"
   ]
  },
  {
   "cell_type": "code",
   "execution_count": null,
   "id": "16d29209",
   "metadata": {
    "ExecuteTime": {
     "end_time": "2021-06-11T05:26:13.007765Z",
     "start_time": "2021-06-11T05:26:12.991766Z"
    }
   },
   "outputs": [],
   "source": [
    "df.drop(index = [0, 1], inplace = True)\n",
    "df = df.reset_index(drop= True)"
   ]
  },
  {
   "cell_type": "code",
   "execution_count": null,
   "id": "63f870fe",
   "metadata": {
    "ExecuteTime": {
     "end_time": "2021-06-11T05:26:13.215771Z",
     "start_time": "2021-06-11T05:26:13.007765Z"
    }
   },
   "outputs": [],
   "source": [
    "df = df.set_index('type')"
   ]
  },
  {
   "cell_type": "code",
   "execution_count": null,
   "id": "1de6919a",
   "metadata": {
    "ExecuteTime": {
     "end_time": "2021-06-11T05:26:13.525298Z",
     "start_time": "2021-06-11T05:26:13.223776Z"
    }
   },
   "outputs": [],
   "source": [
    "df.index = pd.to_datetime(df.index)"
   ]
  },
  {
   "cell_type": "code",
   "execution_count": null,
   "id": "3780271a",
   "metadata": {
    "ExecuteTime": {
     "end_time": "2021-06-11T05:26:13.701303Z",
     "start_time": "2021-06-11T05:26:13.533295Z"
    }
   },
   "outputs": [],
   "source": [
    "df"
   ]
  },
  {
   "cell_type": "code",
   "execution_count": null,
   "id": "6ee94084",
   "metadata": {
    "ExecuteTime": {
     "end_time": "2021-06-11T05:26:13.797284Z",
     "start_time": "2021-06-11T05:26:13.725298Z"
    }
   },
   "outputs": [],
   "source": [
    "energy_series = df['Energy']"
   ]
  },
  {
   "cell_type": "markdown",
   "id": "ca8b2ddd",
   "metadata": {},
   "source": [
    "Let's see what matplotlib can do with this."
   ]
  },
  {
   "cell_type": "code",
   "execution_count": null,
   "id": "1780f188",
   "metadata": {
    "ExecuteTime": {
     "end_time": "2021-06-11T05:26:14.375243Z",
     "start_time": "2021-06-11T05:26:13.797284Z"
    }
   },
   "outputs": [],
   "source": [
    "energy_series.plot(figsize = (10, 8));\n",
    "plt.ylabel('kwh'); plt.title('Energy Usage');"
   ]
  },
  {
   "cell_type": "markdown",
   "id": "f7ae11c9",
   "metadata": {},
   "source": [
    "# Basic Time Series Plot\n",
    "\n",
    "We will being by just making the most introductory plot we can. This requires a little more code than in matplotlib, but it gives us more features, such as interactivity with no extra effort."
   ]
  },
  {
   "cell_type": "markdown",
   "id": "f6236288",
   "metadata": {},
   "source": [
    "First, we need to create a data object. We use `go.Scatter` and provide it with x and y values. By default, with more than 20 points, the mode will be set to `lines`. Here we'll just use the defaults for all of the parameters."
   ]
  },
  {
   "cell_type": "code",
   "execution_count": null,
   "id": "6d6649ce",
   "metadata": {
    "ExecuteTime": {
     "end_time": "2021-06-11T05:26:14.455255Z",
     "start_time": "2021-06-11T05:26:14.375243Z"
    }
   },
   "outputs": [],
   "source": [
    "energy_data = go.Scatter(x=energy_series.index,\n",
    "                        y=energy_series.values)"
   ]
  },
  {
   "cell_type": "markdown",
   "id": "175f3d6e",
   "metadata": {},
   "source": [
    "Then, we set up the plot layout. This will set the defaults again although we do provide the minimum labels."
   ]
  },
  {
   "cell_type": "code",
   "execution_count": null,
   "id": "5904e210",
   "metadata": {
    "ExecuteTime": {
     "end_time": "2021-06-11T05:26:14.567240Z",
     "start_time": "2021-06-11T05:26:14.455255Z"
    }
   },
   "outputs": [],
   "source": [
    "layout = go.Layout(title='Energy Plot', xaxis=dict(title='Date'),\n",
    "                   yaxis=dict(title='(kWh)'))"
   ]
  },
  {
   "cell_type": "markdown",
   "id": "be3a0745",
   "metadata": {},
   "source": [
    "Now, we just need to create a figure and display it. When we pass in the data, it needs to be a list even with a single item."
   ]
  },
  {
   "cell_type": "code",
   "execution_count": null,
   "id": "e0f26857",
   "metadata": {
    "ExecuteTime": {
     "end_time": "2021-06-11T05:26:15.150982Z",
     "start_time": "2021-06-11T05:26:14.567240Z"
    }
   },
   "outputs": [],
   "source": [
    "fig = go.Figure(data=[energy_data],layout=layout)"
   ]
  },
  {
   "cell_type": "markdown",
   "id": "acaf60d5",
   "metadata": {},
   "source": [
    "Finally, we can display the plot interactively in the notebook."
   ]
  },
  {
   "cell_type": "code",
   "execution_count": null,
   "id": "d0b9105d",
   "metadata": {
    "ExecuteTime": {
     "end_time": "2021-06-11T05:26:17.634956Z",
     "start_time": "2021-06-11T05:26:15.150982Z"
    }
   },
   "outputs": [],
   "source": [
    "iplot(fig)"
   ]
  },
  {
   "cell_type": "markdown",
   "id": "9b8a6457",
   "metadata": {},
   "source": [
    "## Plot Formatting\n",
    "\n",
    "This plot is pretty impressive by itself (better than matplotlib), and we can add a few parameters to make things look better than the default. Below we format the hover information using `text`, set the `line` parameters, adjust the `height` and `width` of the plot, and show the results."
   ]
  },
  {
   "cell_type": "code",
   "execution_count": null,
   "id": "7957b8b9",
   "metadata": {
    "ExecuteTime": {
     "end_time": "2021-06-11T05:26:20.904704Z",
     "start_time": "2021-06-11T05:26:17.642949Z"
    }
   },
   "outputs": [],
   "source": [
    "# Create the data object\n",
    "energy_data = go.Scatter(x=energy_series.index,\n",
    "                        y=energy_series.values,\n",
    "                        line=go.scatter.Line(color='red', width = 0.8),\n",
    "                           opacity=0.8,\n",
    "                           name='Energy',\n",
    "                           text=[f'Energy: {x:.0f} kWh' for x in energy_series.values])\n",
    "\n",
    "\n",
    "# Set up the plot layout\n",
    "layout = go.Layout(height=800, width=800, titlefont=dict(size=20),\n",
    "                   font=dict(size=16),\n",
    "                   title='Energy Plot', xaxis=dict(title='Date'),\n",
    "                   yaxis=dict(title='(kWh)'))\n",
    "\n",
    "# Create figure and display\n",
    "fig = go.Figure(data=[energy_data], layout=layout)\n",
    "iplot(fig)"
   ]
  },
  {
   "cell_type": "markdown",
   "id": "62f46a78",
   "metadata": {},
   "source": [
    "# Secondary Y-Axis\n",
    "\n",
    "If we want to include multiple data sources with different ranges, then we will need to use a secondary yaxis. Fortunately, this is simple in plotly and we'll just add it to the interactive plot. "
   ]
  },
  {
   "cell_type": "code",
   "execution_count": null,
   "id": "9b86046e",
   "metadata": {
    "ExecuteTime": {
     "end_time": "2021-06-11T05:26:20.952706Z",
     "start_time": "2021-06-11T05:26:20.904704Z"
    }
   },
   "outputs": [],
   "source": [
    "steam_series = df[\"Steam\"]\n",
    "steam_series"
   ]
  },
  {
   "cell_type": "markdown",
   "id": "4ea05a3b",
   "metadata": {},
   "source": [
    "The key is to add the secondary data source using a `yaxis` of `y2`. This plots the data on the second yaxis which will add."
   ]
  },
  {
   "cell_type": "code",
   "execution_count": null,
   "id": "ed80859d",
   "metadata": {
    "ExecuteTime": {
     "end_time": "2021-06-11T05:26:21.481954Z",
     "start_time": "2021-06-11T05:26:20.960690Z"
    }
   },
   "outputs": [],
   "source": [
    "steam_data = go.Scatter(x=steam_series.index,\n",
    "                        y=steam_series.values,\n",
    "                        line=dict(color='blue', width=0.8),\n",
    "                        opacity=0.8,\n",
    "                        name='Steam',\n",
    "                        yaxis='y2',\n",
    "                        text=[f'Steam: {x:.1f} Mlbs/hr' for x in steam_series.values])"
   ]
  },
  {
   "cell_type": "markdown",
   "id": "d2c3c17b",
   "metadata": {},
   "source": [
    "### Add to Layout\n",
    "\n",
    "We also need to add a secondary `yaxis` to the layout."
   ]
  },
  {
   "cell_type": "code",
   "execution_count": null,
   "id": "624d8c94",
   "metadata": {
    "ExecuteTime": {
     "end_time": "2021-06-11T05:26:26.456482Z",
     "start_time": "2021-06-11T05:26:21.481954Z"
    },
    "scrolled": false
   },
   "outputs": [],
   "source": [
    "# Create a layout with two yaxes\n",
    "layout = go.Layout(height=600, width=1000, font=dict(size=18),\n",
    "                   title='Energy and Steam Plot',\n",
    "                   xaxis=dict(title='Date', type='date'),\n",
    "                   \n",
    "                   yaxis=dict(title='Energy', color='red'),\n",
    "                   # Add a second yaxis to the right of the plot\n",
    "                   yaxis2=dict(title='Steam', color='blue',\n",
    "                                          overlaying='y',\n",
    "                                          side='right')\n",
    "                   )\n",
    "\n",
    "fig = go.Figure(data=[energy_data, steam_data], layout=layout)\n",
    "iplot(fig)"
   ]
  },
  {
   "cell_type": "markdown",
   "id": "ade615ba",
   "metadata": {},
   "source": [
    "There it is! We have the energy and the steam on a single plot. We can see that steam is only used during the winter (for heating) while of course we need energy year-round! "
   ]
  },
  {
   "cell_type": "markdown",
   "id": "f7721033",
   "metadata": {},
   "source": [
    "# Annotations\n",
    "\n",
    "Annotations allow us to call our (highlight) aspects of our data. Let's look at how to annotate a weeks worth of steam measurements with the daily high values."
   ]
  },
  {
   "cell_type": "markdown",
   "id": "96a26e3e",
   "metadata": {},
   "source": [
    "First, we'll get a weeks worth of steam data."
   ]
  },
  {
   "cell_type": "code",
   "execution_count": null,
   "id": "997b2ee0",
   "metadata": {
    "ExecuteTime": {
     "end_time": "2021-06-11T05:26:26.512473Z",
     "start_time": "2021-06-11T05:26:26.456482Z"
    }
   },
   "outputs": [],
   "source": [
    "df_short = df.loc[df.index.week == 6].copy()\n",
    "df_short.head()\n",
    "df_short.tail()"
   ]
  },
  {
   "cell_type": "code",
   "execution_count": null,
   "id": "2175310c",
   "metadata": {
    "ExecuteTime": {
     "end_time": "2021-06-11T05:26:26.696480Z",
     "start_time": "2021-06-11T05:26:26.512473Z"
    }
   },
   "outputs": [],
   "source": [
    "steam_series_four = df_short['Steam']\n",
    "steam_series_five = df_short['Steam.1']"
   ]
  },
  {
   "cell_type": "markdown",
   "id": "8392ee2c",
   "metadata": {},
   "source": [
    "These can be made into data objects as follows:"
   ]
  },
  {
   "cell_type": "code",
   "execution_count": null,
   "id": "71144442",
   "metadata": {
    "ExecuteTime": {
     "end_time": "2021-06-11T05:26:26.824479Z",
     "start_time": "2021-06-11T05:26:26.696480Z"
    }
   },
   "outputs": [],
   "source": [
    "steam_data_four = go.Scatter(\n",
    "    x=steam_series_four.index,\n",
    "    y=steam_series_four.values,\n",
    "    line=dict(color='blue', width=1.1),\n",
    "    opacity=0.8,\n",
    "    name='Steam: Sensor 4',\n",
    "    hoverinfo = 'text',\n",
    "    text = [f'Sensor 4: {x:.1f} Mlbs/hr' for x in steam_series_four.values])"
   ]
  },
  {
   "cell_type": "code",
   "execution_count": null,
   "id": "7b841fcb",
   "metadata": {
    "ExecuteTime": {
     "end_time": "2021-06-11T05:26:26.945590Z",
     "start_time": "2021-06-11T05:26:26.824479Z"
    }
   },
   "outputs": [],
   "source": [
    "steam_data_five = go.Scatter(\n",
    "    x=steam_series_five.index,\n",
    "    y=steam_series_five.values,\n",
    "    line=dict(color='orange', width=1.1),\n",
    "    opacity=0.8,\n",
    "    name='Steam: Sensor 5',\n",
    "    hoverinfo='text',\n",
    "    text=[f'Sensor 5: {x:.1f} Mlbs/hr' for x in steam_series_five.values])"
   ]
  },
  {
   "cell_type": "markdown",
   "id": "54efea4f",
   "metadata": {},
   "source": [
    "Then, we'll write a short function to find the daily maximumn steam measurement."
   ]
  },
  {
   "cell_type": "code",
   "execution_count": null,
   "id": "77ac31c2",
   "metadata": {
    "ExecuteTime": {
     "end_time": "2021-06-11T05:26:27.105579Z",
     "start_time": "2021-06-11T05:26:26.945590Z"
    }
   },
   "outputs": [],
   "source": [
    "def find_daily_maxes(x):\n",
    "    \"\"\"Return maximum measurement on each day and when it occurred in a dataframe\"\"\"\n",
    "    x = x.copy().to_frame()\n",
    "    x['day'] = x.index.day\n",
    "    result =pd.concat([x.groupby('day').max(), \n",
    "                      x.groupby('day').idxmax()], axis = 1).iloc[:, [0, 1]]\n",
    "    result.columns = ['value', 'date']\n",
    "    return result.set_index('date')\n",
    "\n",
    "four_highs = find_daily_maxes(steam_series_four)\n",
    "five_highs = find_daily_maxes(steam_series_five)\n",
    "four_highs"
   ]
  },
  {
   "cell_type": "markdown",
   "id": "02bd2060",
   "metadata": {},
   "source": [
    "We'll also use a short function to format the time of day at which the maximum occurred."
   ]
  },
  {
   "cell_type": "code",
   "execution_count": null,
   "id": "3a349122",
   "metadata": {
    "ExecuteTime": {
     "end_time": "2021-06-11T05:26:27.153582Z",
     "start_time": "2021-06-11T05:26:27.105579Z"
    }
   },
   "outputs": [],
   "source": [
    "from datetime import datetime\n",
    "\n",
    "def format_time(dt):\n",
    "    if pd.isnull(dt):\n",
    "        return \"NaT\"\n",
    "    else:\n",
    "        return datetime.strftime(dt, \"%a <br> %H:%M %p\")\n",
    "    \n",
    "format_time(datetime.now())"
   ]
  },
  {
   "cell_type": "markdown",
   "id": "cbae2ffd",
   "metadata": {},
   "source": [
    "## Building Annotations\n",
    "\n",
    "The following creates the annotation using a list comprehension. For each annotation, we specify the x and y position, along with the formatted text to display. We can adjust other aspects, but we'll let plotly take care of those details. "
   ]
  },
  {
   "cell_type": "code",
   "execution_count": null,
   "id": "a4f3ccb6",
   "metadata": {
    "ExecuteTime": {
     "end_time": "2021-06-11T05:26:27.281611Z",
     "start_time": "2021-06-11T05:26:27.153582Z"
    }
   },
   "outputs": [],
   "source": [
    "four_annotations = [dict(x = date, y = value[0], \n",
    "                         xref = 'x', yref = 'y', \n",
    "                         font=dict(color = 'blue'),\n",
    "                         text = f'{format_time(date)}<br> {value[0]:.1f} Mlbs/hr')\n",
    "                    for date, value in zip(four_highs.index, four_highs.values)]"
   ]
  },
  {
   "cell_type": "code",
   "execution_count": null,
   "id": "c92b2888",
   "metadata": {
    "ExecuteTime": {
     "end_time": "2021-06-11T05:26:27.411482Z",
     "start_time": "2021-06-11T05:26:27.289592Z"
    }
   },
   "outputs": [],
   "source": [
    "four_annotations[:2]"
   ]
  },
  {
   "cell_type": "code",
   "execution_count": null,
   "id": "669db1c3",
   "metadata": {
    "ExecuteTime": {
     "end_time": "2021-06-11T05:26:27.528661Z",
     "start_time": "2021-06-11T05:26:27.435447Z"
    }
   },
   "outputs": [],
   "source": [
    "five_annotations = [dict(x = date, y = value[0], xref = 'x', yref = 'y', font=dict(color = 'orange'),\n",
    "                         text = f'{format_time(date)}<br> {value[0]:.1f} Mlbs/hr')\n",
    "                    for date, value in zip(five_highs.index, five_highs.values)]"
   ]
  },
  {
   "cell_type": "markdown",
   "id": "6d0ef924",
   "metadata": {},
   "source": [
    "### Add Annotations to Plot\n",
    "\n",
    "To actually show the annotations on the plot, all we need is to add them to the layout. Then we display the plot as before."
   ]
  },
  {
   "cell_type": "code",
   "execution_count": null,
   "id": "89ec2018",
   "metadata": {
    "ExecuteTime": {
     "end_time": "2021-06-11T05:26:27.791908Z",
     "start_time": "2021-06-11T05:26:27.544669Z"
    }
   },
   "outputs": [],
   "source": [
    "layout = go.Layout(height=800, width=1000, \n",
    "                   title='Steam Sensor with Daily High Annotations',\n",
    "                   annotations=four_annotations)\n",
    "\n",
    "fig = go.Figure(data = [steam_data_four],\n",
    "                layout=layout)\n",
    "iplot(fig)"
   ]
  },
  {
   "cell_type": "markdown",
   "id": "47f6885f",
   "metadata": {},
   "source": [
    "# Range Selection\n",
    "\n",
    "This plot already has some basic interaction, but we can improve that by adding a range slider. This will allow us to choose the timescale and the frame of time."
   ]
  },
  {
   "cell_type": "markdown",
   "id": "ab8da8c6",
   "metadata": {},
   "source": [
    "We'll go back to the plot showing energy to demonstrate range selection. The data object will stay the same, but the layout needs to be modified.\n",
    "\n",
    "## Range Selector and Range Slider\n",
    "\n",
    "In particular, we will set the xaxis to have a `rangeselector`, which we use for selecting the time scale, and a `rangeslider` which is used to select the window of time. For the `rangeselector`, we add in buttons that allow us select the time scale. The `rangeslider` is easier to code because it does not have buttons. The yaxis remains the same.\n",
    "\n",
    "For more information, see the documentation on [range selector](https://plot.ly/python/reference/#layout-xaxis-rangeselector) \n",
    "and [range slider](https://plot.ly/python/reference/#layout-xaxis-rangeslider). You can also look [this example](https://plot.ly/python/range-slider/)."
   ]
  },
  {
   "cell_type": "code",
   "execution_count": null,
   "id": "615343ac",
   "metadata": {
    "ExecuteTime": {
     "end_time": "2021-06-11T05:26:30.720072Z",
     "start_time": "2021-06-11T05:26:27.791908Z"
    }
   },
   "outputs": [],
   "source": [
    "# Create the same data object\n",
    "energy_data = go.Scatter(x=energy_series.index,\n",
    "                        y=energy_series.values,\n",
    "                        line=go.scatter.Line(color='red', width = 0.6),\n",
    "                           opacity=0.8,\n",
    "                           name='energy',\n",
    "                           text=[f'energy: {x:.0f} kWh' for x in energy_series.values])\n",
    "\n",
    "\n",
    "# Create a layout with a rangeselector and rangeslider on the xaxis\n",
    "layout = go.Layout(height=600, width=900, font=dict(size=18),\n",
    "                   title='Energy Plot with Range Selection',\n",
    "                   xaxis=dict(title='Date',\n",
    "                                        # Range selector with buttons\n",
    "                                         rangeselector=dict(\n",
    "                                             # Buttons for selecting time scale\n",
    "                                             buttons=list([\n",
    "                                                 # 1 month\n",
    "                                                 dict(count=1,\n",
    "                                                      label='1m',\n",
    "                                                      step='month',\n",
    "                                                      stepmode='backward'),\n",
    "                                                 # 1 week\n",
    "                                                 dict(count=7,\n",
    "                                                      label='1w',\n",
    "                                                      step='day',\n",
    "                                                      stepmode='todate'),\n",
    "                                                 # 1 day\n",
    "                                                 dict(count=1,\n",
    "                                                      label='1d',\n",
    "                                                      step='day',\n",
    "                                                      stepmode='todate'),\n",
    "                                                 # 12 hours\n",
    "                                                 dict(count=12,\n",
    "                                                      label='12h',\n",
    "                                                      step='hour',\n",
    "                                                      stepmode='backward'),\n",
    "                                                 # 4 hours\n",
    "                                                 dict(count=4,\n",
    "                                                      label='4h',\n",
    "                                                      step='hour',\n",
    "                                                      stepmode='backward'),\n",
    "                                                 # Entire scale\n",
    "                                                 dict(step='all')\n",
    "                                             ])\n",
    "                                         ),\n",
    "                                         # Sliding for selecting time window\n",
    "                                         rangeslider=dict(visible=True),\n",
    "                                         # Type of xaxis\n",
    "                                         type='date'),\n",
    "                   # yaxis is unchanged\n",
    "                   yaxis=dict(title='Static Pressure')\n",
    "                   )\n",
    "\n",
    "# Create the figure and display\n",
    "fig = go.Figure(data=[energy_data], layout=layout)\n",
    "iplot(fig)"
   ]
  },
  {
   "cell_type": "markdown",
   "id": "8ff86963",
   "metadata": {},
   "source": [
    "## Range Selector with Double Axes"
   ]
  },
  {
   "cell_type": "code",
   "execution_count": null,
   "id": "7dec0319",
   "metadata": {
    "ExecuteTime": {
     "end_time": "2021-06-11T05:26:36.123066Z",
     "start_time": "2021-06-11T05:26:30.720072Z"
    }
   },
   "outputs": [],
   "source": [
    "# Create a layout with interactive elements and two yaxes\n",
    "layout = go.Layout(height=600, width=800, font=dict(size=14),\n",
    "                   title='Energy Plot with Range Selection',\n",
    "                   xaxis=dict(title='Date',\n",
    "                                        # Range selector with buttons\n",
    "                                         rangeselector=dict(\n",
    "                                             # Buttons for selecting time scale\n",
    "                                             buttons=list([\n",
    "                                                 # 1 month\n",
    "                                                 dict(count=1,\n",
    "                                                      label='1m',\n",
    "                                                      step='month',\n",
    "                                                      stepmode='backward'),\n",
    "                                                 # 1 week\n",
    "                                                 dict(count=7,\n",
    "                                                      label='1w',\n",
    "                                                      step='day',\n",
    "                                                      stepmode='todate'),\n",
    "                                                 # 1 day\n",
    "                                                 dict(count=1,\n",
    "                                                      label='1d',\n",
    "                                                      step='day',\n",
    "                                                      stepmode='todate'),\n",
    "                                                 # 12 hours\n",
    "                                                 dict(count=12,\n",
    "                                                      label='12h',\n",
    "                                                      step='hour',\n",
    "                                                      stepmode='backward'),\n",
    "                                                 # 4 hours\n",
    "                                                 dict(count=4,\n",
    "                                                      label='4h',\n",
    "                                                      step='hour',\n",
    "                                                      stepmode='backward'),\n",
    "                                                 # Entire scale\n",
    "                                                 dict(step='all')\n",
    "                                             ])\n",
    "                                         ),\n",
    "                                         # Sliding for selecting time window\n",
    "                                         rangeslider=dict(visible=True),\n",
    "                                         # Type of xaxis\n",
    "                                         type='date'),\n",
    "                   yaxis=dict(title='Energy (kWh)', color='red'),\n",
    "                   # Add a second yaxis to the right of the plot\n",
    "                   yaxis2=dict(title='Steam (Mlbs/hr)', color='blue',\n",
    "                                          overlaying='y',\n",
    "                                          side='right')\n",
    "                   )\n",
    "\n",
    "fig = go.Figure(data=[energy_data, steam_data], layout=layout)\n",
    "iplot(fig)"
   ]
  },
  {
   "cell_type": "markdown",
   "id": "7af29e3e",
   "metadata": {},
   "source": [
    "# Dropdown Menu\n",
    "\n",
    "Another option for adding interaction is through a dropdown menu. Here, we will plot a single week and give users the options of which sensor to view for steam. Adding in dropdown menus is a little trickier, but still not too much work for a nice interactive plot! "
   ]
  },
  {
   "cell_type": "markdown",
   "id": "bf487ffe",
   "metadata": {},
   "source": [
    "### Update Menus\n",
    "\n",
    "To add the dropdown, we want to create an updatemenu object. This includes the buttons as well as the actions they trigger which are stored in `args`. Because we are changing the visible data, we set the `visible` attribute. We also change the `title` to reflect which sensor(s) is currently shown. "
   ]
  },
  {
   "cell_type": "code",
   "execution_count": null,
   "id": "91add328",
   "metadata": {
    "ExecuteTime": {
     "end_time": "2021-06-11T05:26:36.171081Z",
     "start_time": "2021-06-11T05:26:36.123066Z"
    }
   },
   "outputs": [],
   "source": [
    "updatemenus = list([\n",
    "    dict(\n",
    "        active=2,\n",
    "        buttons=list([\n",
    "            dict(\n",
    "                label='Sensor 4',\n",
    "                method='update',\n",
    "                args=[{\n",
    "                    'visible': [True, False]\n",
    "                }, {\n",
    "                    'title': 'Sensor 4'\n",
    "                }]),\n",
    "            dict(\n",
    "                label='Sensor 5',\n",
    "                method='update',\n",
    "                args=[{\n",
    "                    'visible': [False, True]\n",
    "                }, {\n",
    "                    'title': 'Sensor 5'\n",
    "                }]),\n",
    "            dict(\n",
    "                label='Both',\n",
    "                method='update',\n",
    "                args=[{\n",
    "                    'visible': [True, True]\n",
    "                }, {\n",
    "                    'title': 'Sensor Sensors'\n",
    "                }])\n",
    "        ]),\n",
    "    )\n",
    "])\n",
    "\n",
    "layout = go.Layout(height=800, width=1000, title='Steam Sensors',\n",
    "                   updatemenus=updatemenus)"
   ]
  },
  {
   "cell_type": "code",
   "execution_count": null,
   "id": "9b91affe",
   "metadata": {
    "ExecuteTime": {
     "end_time": "2021-06-11T05:26:36.667057Z",
     "start_time": "2021-06-11T05:26:36.171081Z"
    }
   },
   "outputs": [],
   "source": [
    "fig = go.Figure(data=[steam_data_four, steam_data_five], layout=layout)\n",
    "iplot(fig)"
   ]
  },
  {
   "cell_type": "markdown",
   "id": "f0f0ae8d",
   "metadata": {},
   "source": [
    "## Dropdown Menu with Annotations\n",
    "\n",
    "We can easily add in the annotations to the plot by including them in the `args` for the dropdown menu. This will show annotations when we are looking at one or the other sensor but not both."
   ]
  },
  {
   "cell_type": "code",
   "execution_count": null,
   "id": "21ba2ef4",
   "metadata": {
    "ExecuteTime": {
     "end_time": "2021-06-11T05:27:19.155553Z",
     "start_time": "2021-06-11T05:27:19.123557Z"
    }
   },
   "outputs": [],
   "source": [
    "updatemenus = list([\n",
    "    dict(\n",
    "        active=2,\n",
    "        buttons=list([\n",
    "            dict(\n",
    "                label='Sensor 4',\n",
    "                method='update',\n",
    "                args=[{\n",
    "                    'visible': [True, False]\n",
    "                }, {\n",
    "                    'title': 'Sensor 4',\n",
    "                    'annotations': four_annotations\n",
    "                }]),\n",
    "            dict(\n",
    "                label='Sensor 5',\n",
    "                method='update',\n",
    "                args=[{\n",
    "                    'visible': [False, True]\n",
    "                }, {\n",
    "                    'title': 'Sensor 5',\n",
    "                    'annotations': five_annotations\n",
    "                }]),\n",
    "            dict(\n",
    "                label='Both',\n",
    "                method='update',\n",
    "                args=[{\n",
    "                    'visible': [True, True]\n",
    "                }, {\n",
    "                    'title': 'Sensor Sensors'\n",
    "                }])\n",
    "        ]),\n",
    "    )\n",
    "])\n",
    "\n",
    "layout = go.Layout(height=600, width=1200, title='Steam Sensors',\n",
    "                   updatemenus=updatemenus)"
   ]
  },
  {
   "cell_type": "code",
   "execution_count": null,
   "id": "453db60d",
   "metadata": {
    "ExecuteTime": {
     "end_time": "2021-06-11T05:27:25.567389Z",
     "start_time": "2021-06-11T05:27:25.408250Z"
    }
   },
   "outputs": [],
   "source": [
    "fig = go.Figure(data = [steam_data_four, steam_data_five], \n",
    "                layout=layout)\n",
    "\n",
    "iplot(fig)"
   ]
  },
  {
   "cell_type": "markdown",
   "id": "ca514100",
   "metadata": {},
   "source": [
    "# Conclusions\n",
    "\n",
    "In this notebook, we got an introduction to making time-series plots with plotly. We were able to accomplish quite a lot, even without getting into all the details. This is because plotly is smart enough to interpret our data and figure out the details without our input. Ultimately, this makes us much more productive as data scientists because we can spend more time investigating the data and less time figuring out the particulars of a plot. \n",
    "\n",
    "There are many more capabilities in plotly, so check out [the documentation](https://plot.ly/python/) for more. [Dash](https://dash.plot.ly/), created by plotly, can even be used to build web applications with Python code.  "
   ]
  },
  {
   "cell_type": "code",
   "execution_count": null,
   "id": "6af1519d",
   "metadata": {},
   "outputs": [],
   "source": []
  }
 ],
 "metadata": {
  "kernelspec": {
   "display_name": "Python 3",
   "language": "python",
   "name": "python3"
  },
  "language_info": {
   "codemirror_mode": {
    "name": "ipython",
    "version": 3
   },
   "file_extension": ".py",
   "mimetype": "text/x-python",
   "name": "python",
   "nbconvert_exporter": "python",
   "pygments_lexer": "ipython3",
   "version": "3.9.5"
  }
 },
 "nbformat": 4,
 "nbformat_minor": 5
}
