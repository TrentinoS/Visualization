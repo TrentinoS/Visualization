{
 "cells": [
  {
   "cell_type": "markdown",
   "id": "d13c52ed",
   "metadata": {},
   "source": [
    "<h1 align='center' style='color:#e56b6f'>Interactive Globe with Plotly</h1>"
   ]
  },
  {
   "cell_type": "markdown",
   "id": "e75adf5e",
   "metadata": {},
   "source": [
    "<h2 style='color:#b56576'>Importing Packages"
   ]
  },
  {
   "cell_type": "code",
   "execution_count": 1,
   "id": "1cacd2d0",
   "metadata": {
    "ExecuteTime": {
     "end_time": "2021-06-16T06:27:43.997818Z",
     "start_time": "2021-06-16T06:27:42.313120Z"
    }
   },
   "outputs": [],
   "source": [
    "import numpy as np\n",
    "import pandas as pd\n",
    "\n",
    "import matplotlib\n",
    "from matplotlib import cm\n",
    "from mpl_toolkits.basemap import Basemap\n",
    "import plotly.graph_objs as go\n",
    "from plotly.offline import plot\n",
    "\n",
    "from netCDF4 import Dataset\n",
    "\n",
    "import warnings\n",
    "warnings.filterwarnings('ignore')"
   ]
  },
  {
   "cell_type": "markdown",
   "id": "64009d75",
   "metadata": {},
   "source": [
    "<h2 style='color:#b56576'>Download & Import Topography Data</h2>"
   ]
  },
  {
   "cell_type": "code",
   "execution_count": 2,
   "id": "0e413ede",
   "metadata": {
    "ExecuteTime": {
     "end_time": "2021-06-16T06:27:44.029808Z",
     "start_time": "2021-06-16T06:27:44.000803Z"
    }
   },
   "outputs": [],
   "source": [
    "def Etopo(lon_area, lat_area, resolution):\n",
    "    ### Input\n",
    "    # Resolution: resolution of topography for both Longitude & latitude \n",
    "    # (Original resolution is 0.0167 deg)\n",
    "    # lon_area and lat_area: the region of map which you want e.g. [100, 130], [20, 25]\n",
    "    ###\n",
    "    ### Output\n",
    "    # Mesh type longitude, latitude, and topography data\n",
    "    ###\n",
    "    \n",
    "    # Read netCDF4 Data\n",
    "    data = Dataset('ETOPO1_Ice_g_gdal.grd', 'r') # Dataset Link:(https://www.ngdc.noaa.gov/mgg/global/relief/ETOPO1/data/ice_surface/grid_registered/netcdf/ETOPO1_Ice_g_gdal.grd.gz)\n",
    "    \n",
    "    #Get Data\n",
    "    lon_range = data.variables['x_range'][:]\n",
    "    lat_range = data.variables['y_range'][:]\n",
    "    topo_range = data.variables['z_range'][:]\n",
    "    \n",
    "    spacing = data.variables['spacing'][:]\n",
    "    dimension = data.variables['dimension'][:]\n",
    "    z = data.variables['z'][:]\n",
    "\n",
    "    lon_num = dimension[0]\n",
    "    lat_num = dimension[1]\n",
    "    \n",
    "    \n",
    "    #Prepare Array\n",
    "    lon_input = np.zeros(lon_num)\n",
    "    lat_input = np.zeros(lat_num)\n",
    "\n",
    "    for i in range(lon_num):\n",
    "        lon_input[i] = lon_range[0] + i * spacing[0]\n",
    "\n",
    "    for i in range(lat_num):\n",
    "        lat_input[i] = lat_range[0] + i * spacing[1]\n",
    "        \n",
    "    # Create 2D Array\n",
    "    lon, lat =np.meshgrid(lon_input, lat_input)\n",
    "    \n",
    "    #Convert 2D Array from 1D Array for z value\n",
    "    topo = np.reshape(z,(lat_num, lon_num))\n",
    "    \n",
    "    #Skip the Data for resolution\n",
    "    if ((resolution < spacing[0]) | (resolution < spacing[1])):\n",
    "        print('Set the highest resolution')\n",
    "    else:\n",
    "        skip = int(resolution/spacing[0])\n",
    "        lon = lon[::skip, ::skip]\n",
    "        lat = lat[::skip,::skip]\n",
    "        topo = topo[::skip, ::skip]\n",
    "\n",
    "    topo = topo[::-1]\n",
    "    \n",
    "    #Select the range of map\n",
    "    range1 = np.where((lon>=lon_area[0]) & (lon<=lon_area[1]))\n",
    "    lon = lon[range1]\n",
    "    lat = lat[range1]\n",
    "    topo = topo[range1]\n",
    "    \n",
    "    range2 = np.where((lat>=lat_area[0])& (lat<= lat_area[1]))\n",
    "    lon = lon[range2]\n",
    "    lat = lat[range2]\n",
    "    topo = topo[range2]\n",
    "    \n",
    "    \n",
    "    #Convert 2D Again\n",
    "    lon_num = len(np.unique(lon))\n",
    "    lat_num = len(np.unique(lat))\n",
    "    lon = np.reshape(lon, (lat_num, lon_num))\n",
    "    lat = np.reshape(lat, (lat_num, lon_num))\n",
    "    topo = np.reshape(topo, (lat_num, lon_num))\n",
    "    \n",
    "    return lon, lat, topo"
   ]
  },
  {
   "cell_type": "markdown",
   "id": "2821757f",
   "metadata": {},
   "source": [
    "<h2 style='color:#b56576'>Converting to the spherical coordinates"
   ]
  },
  {
   "cell_type": "code",
   "execution_count": 3,
   "id": "e72c117c",
   "metadata": {
    "ExecuteTime": {
     "end_time": "2021-06-16T06:27:44.172134Z",
     "start_time": "2021-06-16T06:27:44.034784Z"
    }
   },
   "outputs": [],
   "source": [
    "def degree2radians(degree):\n",
    "    #Convert degrees to radians\n",
    "    return degree*np.pi/180"
   ]
  },
  {
   "cell_type": "code",
   "execution_count": 4,
   "id": "d445133c",
   "metadata": {
    "ExecuteTime": {
     "end_time": "2021-06-16T06:27:44.313064Z",
     "start_time": "2021-06-16T06:27:44.185097Z"
    }
   },
   "outputs": [],
   "source": [
    "def mapping_map_to_sphere(lon, lat, radius=1):\n",
    "    #this function maps the points of coords(lon, lat) to points onto the sphere of radius `radius`\n",
    "    lon=np.array(lon, dtype=np.float64)\n",
    "    lat=np.array(lat, dtype=np.float64)\n",
    "    lon=degree2radians(lon)\n",
    "    lat=degree2radians(lat)\n",
    "    \n",
    "    xs=radius*np.cos(lon)*np.cos(lat)\n",
    "    ys=radius*np.sin(lon)*np.cos(lat)\n",
    "    zs=radius*np.sin(lat)\n",
    "    \n",
    "    return xs, ys, zs"
   ]
  },
  {
   "cell_type": "markdown",
   "id": "91ce408b",
   "metadata": {},
   "source": [
    "<h2 style='color:#b56576'>Plot the Interactive Globe using Plotly"
   ]
  },
  {
   "cell_type": "code",
   "execution_count": 5,
   "id": "162e237c",
   "metadata": {
    "ExecuteTime": {
     "end_time": "2021-06-16T06:28:58.894468Z",
     "start_time": "2021-06-16T06:27:44.316040Z"
    }
   },
   "outputs": [],
   "source": [
    "#Import topography Data\n",
    "#Select the area you want\n",
    "\n",
    "resolution = 0.8\n",
    "lon_area = [-180., 180.]\n",
    "lat_area = [-90., 90.]\n",
    "\n",
    "#Get mesh-shape topography data\n",
    "\n",
    "lon_topo, lat_topo, topo = Etopo(lon_area, lat_area, resolution)\n",
    "\n",
    "#Converting to the spherical coordinates using the created function\n",
    "xs, ys, zs = mapping_map_to_sphere(lon_topo, lat_topo)"
   ]
  },
  {
   "cell_type": "code",
   "execution_count": 6,
   "id": "b51c4968",
   "metadata": {
    "ExecuteTime": {
     "end_time": "2021-06-16T06:29:06.474878Z",
     "start_time": "2021-06-16T06:29:04.580370Z"
    }
   },
   "outputs": [],
   "source": [
    "#Defining Color Scale\n",
    "Ctopo = [[0, 'rgb(0, 0, 70)'], [0.2, 'rgb(0, 90, 150)'],\n",
    "        [0.4, 'rgb(150, 180, 230)'], [0.5, 'rgb(210, 230, 250)'],\n",
    "         [0.50001, 'rgb(0, 120, 0)'], [0.57, 'rgb(220, 180, 130)'],\n",
    "         [0.65, 'rgb(120, 100, 0)'], [0.75, 'rgb(80, 70, 0)'],\n",
    "         [0.9, 'rgb(200, 200, 200)'], [1.0, 'rgb(255, 255, 255)']]\n",
    "\n",
    "cmin = -8000\n",
    "cmax = 8000\n",
    "topo_sphere= dict(type='surface', \n",
    "                 x=xs,\n",
    "                 y=ys,\n",
    "                 z=zs,\n",
    "                 colorscale=Ctopo,\n",
    "                 surfacecolor=topo,\n",
    "                 cmin=cmin,\n",
    "                 cmax=cmax)"
   ]
  },
  {
   "cell_type": "code",
   "execution_count": null,
   "id": "759cb739",
   "metadata": {
    "ExecuteTime": {
     "start_time": "2021-06-16T06:27:42.331Z"
    }
   },
   "outputs": [],
   "source": [
    "#removing axes\n",
    "noaxis=dict(showbackground=False,\n",
    "           showgrid=False,\n",
    "           showline=False,\n",
    "           showticklabels=False,\n",
    "           ticks='',\n",
    "           title='',\n",
    "           zeroline=False)"
   ]
  },
  {
   "cell_type": "code",
   "execution_count": 8,
   "id": "3b3b44f5",
   "metadata": {
    "ExecuteTime": {
     "end_time": "2021-06-16T06:29:51.566793Z",
     "start_time": "2021-06-16T06:29:16.041627Z"
    }
   },
   "outputs": [],
   "source": [
    "titlecolor = 'white'\n",
    "bgcolor = 'black'\n",
    "\n",
    "layout = go.Layout(\n",
    "    autosize = False, width=1200, height=800,\n",
    "    title='3D Spherical Topography Map',\n",
    "    titlefont = dict(family = 'Courier New', color=titlecolor),\n",
    "    showlegend=False,\n",
    "    scene = dict(\n",
    "        xaxis=noaxis,\n",
    "        yaxis=noaxis,\n",
    "        zaxis=noaxis,\n",
    "        aspectmode='manual',\n",
    "        aspectratio=go.layout.scene.Aspectratio(\n",
    "                x=1, y=1, z=1)),\n",
    "        paper_bgcolor = bgcolor,\n",
    "        plot_bgcolor = bgcolor)"
   ]
  },
  {
   "cell_type": "code",
   "execution_count": 9,
   "id": "ff55af6b",
   "metadata": {
    "ExecuteTime": {
     "end_time": "2021-06-16T06:30:43.457168Z",
     "start_time": "2021-06-16T06:29:51.571819Z"
    }
   },
   "outputs": [
    {
     "data": {
      "text/plain": [
       "'SphericalTopography.html'"
      ]
     },
     "execution_count": 9,
     "metadata": {},
     "output_type": "execute_result"
    }
   ],
   "source": [
    "#Create Plot & Export as HTML\n",
    "\n",
    "plot_data = [topo_sphere]\n",
    "fig = go.Figure(data=plot_data, layout=layout)\n",
    "plot(fig, validate=False, filename='SphericalTopography.html', auto_open=True)"
   ]
  },
  {
   "cell_type": "markdown",
   "id": "b9e869ef",
   "metadata": {},
   "source": [
    "<h2 style='color:#b56576'>Demo"
   ]
  },
  {
   "cell_type": "code",
   "execution_count": 10,
   "id": "b849d582",
   "metadata": {
    "ExecuteTime": {
     "end_time": "2021-06-16T06:30:46.460432Z",
     "start_time": "2021-06-16T06:30:43.461147Z"
    }
   },
   "outputs": [
    {
     "data": {
      "text/plain": [
       "'3DSphericalTopogaphy1.html'"
      ]
     },
     "execution_count": 10,
     "metadata": {},
     "output_type": "execute_result"
    }
   ],
   "source": [
    "ratio_topo = 1.0 + topo*1e-5\n",
    "xs_3d = xs*ratio_topo\n",
    "ys_3d = ys*ratio_topo\n",
    "zs_3d = zs*ratio_topo\n",
    "\n",
    "topo_sphere_3d = dict(type='surface',\n",
    "                     x=xs_3d,\n",
    "                     y=ys_3d,\n",
    "                     z=zs_3d,\n",
    "                     colorscale= Ctopo,\n",
    "                     surfacecolor=topo,\n",
    "                     opacity=1,\n",
    "                     cmin=cmin,\n",
    "                     cmax=cmax,\n",
    "                     showscale=False,\n",
    "                     hoverinfo='skip')\n",
    "\n",
    "\n",
    "plot_data_3DST = [topo_sphere_3d]\n",
    "fig = go.Figure(data=plot_data_3DST, layout=layout)\n",
    "fig.update_layout(title_text='3D Spherical Topography Map')\n",
    "plot(fig, validate=False, filename='3DSphericalTopogaphy1.html', auto_open=True)"
   ]
  },
  {
   "cell_type": "markdown",
   "id": "b3034241",
   "metadata": {},
   "source": [
    "<h1 align='center' style='color:#e56b6f'>Plot the Global Earthquake Distribution on the Interactive Globe</h1>"
   ]
  },
  {
   "cell_type": "code",
   "execution_count": 11,
   "id": "178e5c46",
   "metadata": {
    "ExecuteTime": {
     "end_time": "2021-06-16T06:30:59.564850Z",
     "start_time": "2021-06-16T06:30:46.464430Z"
    }
   },
   "outputs": [],
   "source": [
    "# Data selection\n",
    "data = pd.read_csv('query.csv')\n",
    "data = data.drop(index = [37015, 17235])\n",
    "\n",
    "data['mag'] = data['mag'].astype('float64')\n",
    "\n",
    "data = data[data['mag'] >= 5]        \n",
    "\n",
    "# Change format to datetime for event date\n",
    "data['np_DateTime']=pd.to_datetime(data['time'].str[:-2],format='%Y-%m-%dT%H:%M:%S')\n",
    "\n",
    "date = np.array(data['np_DateTime'])\n",
    "evlon = np.array(data['longitude'])\n",
    "evlat = np.array(data['latitude'])\n",
    "evDepth = np.array(data['depth'])\n",
    "evMag = np.array(data['mag'])\n",
    "\n",
    "# Calculate time difference\n",
    "RefTime = np.datetime64(\"2000-01-01T00:00:00.000000000\")\n",
    "Timefrom_RefTime = (date - RefTime)\n",
    "# For years\n",
    "Timefrom_RefYears = Timefrom_RefTime.astype('timedelta64[Y]')\n",
    "Timefrom_RefYears = Timefrom_RefYears / np.timedelta64(1, 'Y')\n",
    "\n",
    "\n",
    "evDepth = evDepth.astype('float64')"
   ]
  },
  {
   "cell_type": "code",
   "execution_count": 12,
   "id": "00292fe4",
   "metadata": {
    "ExecuteTime": {
     "end_time": "2021-06-16T06:31:00.077118Z",
     "start_time": "2021-06-16T06:30:59.567715Z"
    }
   },
   "outputs": [],
   "source": [
    "xs_ev_org, ys_ev_org, zs_ev_org = mapping_map_to_sphere(evlon, evlat)\n",
    "\n",
    "#Create color bar in Matplotlib\n",
    "import matplotlib\n",
    "from matplotlib import cm\n",
    "\n",
    "def matplotlib_to_plotly(cmap, pl_entries):\n",
    "    h = 1.0/(pl_entries-1)\n",
    "    pl_colorscale = []\n",
    "    \n",
    "    for k in range(pl_entries):\n",
    "        C = list(map(np.uint8, np.array(cmap(k*h)[:3])*255))\n",
    "        pl_colorscale.append([k*h, 'rgb'+str((C[0], C[1], C[2]))])\n",
    "        \n",
    "    return pl_colorscale\n",
    "\n",
    "def MlibCscale_to_Plotly(cbar):\n",
    "    cmap = matplotlib.cm.get_cmap(cbar)\n",
    "    rgb = []\n",
    "    norm = matplotlib.colors.Normalize(vmin=0, vmax=255)\n",
    "\n",
    "    for i in range(0, 255):\n",
    "        k = matplotlib.colors.colorConverter.to_rgb(cmap(norm(i)))\n",
    "        rgb.append(k)\n",
    "\n",
    "    Cscale = matplotlib_to_plotly(cmap, 255)\n",
    "    \n",
    "    return Cscale\n",
    "\n",
    "cbar = 'jet_r'\n",
    "Cscale_EQ = MlibCscale_to_Plotly(cbar)"
   ]
  },
  {
   "cell_type": "markdown",
   "id": "d0bc56e4",
   "metadata": {},
   "source": [
    "<h2 style='color:#b56576'>Create the Earthquake Distribution Plot"
   ]
  },
  {
   "cell_type": "code",
   "execution_count": 13,
   "id": "ba6652b7",
   "metadata": {
    "ExecuteTime": {
     "end_time": "2021-06-16T06:31:00.187389Z",
     "start_time": "2021-06-16T06:31:00.079123Z"
    }
   },
   "outputs": [],
   "source": [
    "# Create three-dimensional effect\n",
    "ratio = 1. - evDepth*2e-4\n",
    "xs_ev = xs_ev_org*ratio\n",
    "ys_ev = ys_ev_org*ratio\n",
    "zs_ev = zs_ev_org*ratio\n",
    "\n",
    "ratio = 1.15 - evDepth*2e-4\n",
    "xs_ev_up = xs_ev_org*ratio\n",
    "ys_ev_up = ys_ev_org*ratio\n",
    "zs_ev_up = zs_ev_org*ratio"
   ]
  },
  {
   "cell_type": "code",
   "execution_count": 14,
   "id": "5ba637df",
   "metadata": {
    "ExecuteTime": {
     "end_time": "2021-06-16T06:31:24.265043Z",
     "start_time": "2021-06-16T06:31:00.193369Z"
    }
   },
   "outputs": [
    {
     "data": {
      "image/png": "[encoded data removed]",
      "text/plain": [
       "<Figure size 432x288 with 1 Axes>"
      ]
     },
     "metadata": {},
     "output_type": "display_data"
    }
   ],
   "source": [
    "# Draw coast line\n",
    "# Reference: https://plot.ly/~Dreamshot/9152\n",
    "\n",
    "# Make shortcut to Basemap object, \n",
    "# not specifying projection type for this example\n",
    "from mpl_toolkits.basemap import Basemap\n",
    "m = Basemap(resolution='i') \n",
    "\n",
    "# Functions converting coastline/country polygons to lon/lat traces\n",
    "def polygons_to_traces(poly_paths, N_poly):\n",
    "    ''' \n",
    "    pos arg 1. (poly_paths): paths to polygons\n",
    "    pos arg 2. (N_poly): number of polygon to convert\n",
    "    '''\n",
    "    # init. plotting list\n",
    "    lons=[]\n",
    "    lats=[]\n",
    "\n",
    "    for i_poly in range(N_poly):\n",
    "        poly_path = poly_paths[i_poly]\n",
    "        \n",
    "        # get the Basemap coordinates of each segment\n",
    "        coords_cc = np.array(\n",
    "            [(vertex[0],vertex[1]) \n",
    "             for (vertex,code) in poly_path.iter_segments(simplify=False)]\n",
    "        )\n",
    "        \n",
    "        # convert coordinates to lon/lat by 'inverting' the Basemap projection\n",
    "        lon_cc, lat_cc = m(coords_cc[:,0],coords_cc[:,1], inverse=True)\n",
    "    \n",
    "        \n",
    "        lats.extend(lat_cc.tolist()+[None]) \n",
    "        lons.extend(lon_cc.tolist()+[None])\n",
    "        \n",
    "    return lons, lats\n",
    "\n",
    "# Function generating coastline lon/lat \n",
    "def get_coastline_traces():\n",
    "    poly_paths = m.drawcoastlines().get_paths() # coastline polygon paths\n",
    "    N_poly = 91  # use only the 91st biggest coastlines (i.e. no rivers)\n",
    "    cc_lons, cc_lats= polygons_to_traces(poly_paths, N_poly)\n",
    "    return cc_lons, cc_lats\n",
    "\n",
    "# Function generating country lon/lat \n",
    "def get_country_traces():\n",
    "    poly_paths = m.drawcountries().get_paths() # country polygon paths\n",
    "    N_poly = len(poly_paths)  # use all countries\n",
    "    country_lons, country_lats= polygons_to_traces(poly_paths, N_poly)\n",
    "    return country_lons, country_lats\n",
    "  \n",
    "# Get list of of coastline, country, and state lon/lat \n",
    "cc_lons, cc_lats=get_coastline_traces()\n",
    "country_lons, country_lats=get_country_traces()\n",
    "\n",
    "#concatenate the lon/lat for coastlines and country boundaries:\n",
    "lons=cc_lons+[None]+country_lons\n",
    "lats=cc_lats+[None]+country_lats\n",
    "\n",
    "xs_bd, ys_bd, zs_bd = mapping_map_to_sphere(lons, lats, radius=1.01)# here the radius is slightly greater than 1 \n",
    "                                                         #to ensure lines visibility; otherwise (with radius=1)\n",
    "                                                         # some lines are hidden by contours colors\n",
    "        \n",
    "boundaries=dict(type='scatter3d',\n",
    "               x=xs_bd,\n",
    "               y=ys_bd,\n",
    "               z=zs_bd,\n",
    "               mode='lines',\n",
    "               line=dict(color='gray', width=4)\n",
    "              )"
   ]
  },
  {
   "cell_type": "markdown",
   "id": "c25b111f",
   "metadata": {},
   "source": [
    "<h2 style='color:#b56576'>1. Earthquake Distribution Plot (Depth)"
   ]
  },
  {
   "cell_type": "code",
   "execution_count": 15,
   "id": "1f24f0a5",
   "metadata": {
    "ExecuteTime": {
     "end_time": "2021-06-16T06:31:49.733793Z",
     "start_time": "2021-06-16T06:31:24.267043Z"
    }
   },
   "outputs": [
    {
     "data": {
      "text/plain": [
       "'3DEarthquakeDistribution.html'"
      ]
     },
     "execution_count": 15,
     "metadata": {},
     "output_type": "execute_result"
    }
   ],
   "source": [
    "depmax = 700.\n",
    "depmin = 0.\n",
    "depbin = 50.\n",
    "\n",
    "cmin = depmin\n",
    "cmax = depmax\n",
    "cbin = depbin\n",
    "\n",
    "seis_3D_depth_up = go.Scatter3d(x = xs_ev_up,\n",
    "                      y = ys_ev_up,\n",
    "                      z = zs_ev_up,\n",
    "                      mode='markers',\n",
    "                      name='measured',\n",
    "                      marker = dict(\n",
    "                          size = 1.*evMag,\n",
    "                          cmax = cmax,\n",
    "                          cmin = cmin,\n",
    "                          colorbar = dict(\n",
    "                              title = 'Source Depth',\n",
    "                              titleside = 'right',\n",
    "                              titlefont = dict(size = 16, \n",
    "                                               color = titlecolor, \n",
    "                                               family='Courier New'),\n",
    "                              tickmode = 'array',\n",
    "                              ticks = 'outside',\n",
    "                              ticktext = list(np.arange(cmin,cmax+cbin,cbin)),\n",
    "                              tickvals = list(np.arange(cmin,cmax+cbin,cbin)),\n",
    "                              tickcolor = titlecolor,\n",
    "                              tickfont = dict(size=14, color = titlecolor,\n",
    "                                             family='Courier New')\n",
    "                          ),\n",
    "                          ### choose color option\n",
    "                          color = evDepth,\n",
    "                          ### choose color option\n",
    "                          colorscale = Cscale_EQ,\n",
    "                          showscale = True,\n",
    "                          opacity=1.),\n",
    "                      hoverinfo='skip'\n",
    "                      )\n",
    "\n",
    "\n",
    "plot_data = dict(data=[topo_sphere_3d ,seis_3D_depth_up], layout=layout)\n",
    "fig = go.Figure(data = plot_data)\n",
    "fig.update_layout(title_text='3D Earthquake Distribution Map',)\n",
    "\n",
    "plot(fig, validate=True, filename='3DEarthquakeDistribution.html', auto_open=True)"
   ]
  },
  {
   "cell_type": "markdown",
   "id": "3b5d4ec1",
   "metadata": {},
   "source": [
    "<h2 style='color:#b56576'>2. Earthquake Distribution Plot (Time)"
   ]
  },
  {
   "cell_type": "code",
   "execution_count": 16,
   "id": "d493ec72",
   "metadata": {
    "ExecuteTime": {
     "end_time": "2021-06-16T06:31:53.042823Z",
     "start_time": "2021-06-16T06:31:49.742787Z"
    }
   },
   "outputs": [
    {
     "data": {
      "text/plain": [
       "'3DEarthquakeDistribution2.html'"
      ]
     },
     "execution_count": 16,
     "metadata": {},
     "output_type": "execute_result"
    }
   ],
   "source": [
    "# Plot events in 3D with color of years since 2020\n",
    "cmin = 0\n",
    "cmax = 20\n",
    "cbin = 1\n",
    "seis_3D_time_up = go.Scatter3d(x = xs_ev_up,\n",
    "                      y = ys_ev_up,\n",
    "                      z = zs_ev_up,\n",
    "                      mode='markers',\n",
    "                      name='measured',\n",
    "                      marker = dict(\n",
    "                          size = 1.*evMag,\n",
    "                          cmax = cmax,\n",
    "                          cmin = cmin,\n",
    "                          colorbar = dict(\n",
    "                              title = 'Years since 2000',\n",
    "                              titleside = 'right',\n",
    "                              titlefont = dict(size = 16, \n",
    "                                               color = titlecolor,\n",
    "                                               family='Courier New'),\n",
    "                              tickmode = 'array',\n",
    "                              ticks = 'outside',\n",
    "                              ticktext = list(np.arange(cmin,cmax+cbin,cbin)),\n",
    "                              tickvals = list(np.arange(cmin,cmax+cbin,cbin)),\n",
    "                              tickcolor = titlecolor,\n",
    "                              tickfont = dict(size=14, color = titlecolor,\n",
    "                                             family='Courier New')\n",
    "                          ),\n",
    "                          ### choose color option\n",
    "                          color = Timefrom_RefYears,\n",
    "                          ### choose color option\n",
    "                          colorscale = Cscale_EQ,\n",
    "                          showscale = True,\n",
    "                          opacity=1.),\n",
    "                      hoverinfo='skip'\n",
    "                      )\n",
    "\n",
    "plot_data = dict(data = [topo_sphere_3d , seis_3D_time_up], layout = layout)\n",
    "fig = go.Figure(data = plot_data, layout =layout)\n",
    "fig.update_layout(title_text='3D Earthquake Distribution Map',)\n",
    "\n",
    "plot(fig, validate=True, filename='3DEarthquakeDistribution2.html', auto_open=True)"
   ]
  },
  {
   "cell_type": "code",
   "execution_count": 17,
   "id": "1c5a1a22",
   "metadata": {
    "ExecuteTime": {
     "end_time": "2021-06-16T06:31:53.058813Z",
     "start_time": "2021-06-16T06:31:53.046822Z"
    }
   },
   "outputs": [],
   "source": [
    "ratio_k = 0.85\n",
    "xs_k = xs * ratio_k\n",
    "ys_k = ys * ratio_k\n",
    "zs_k = zs * ratio_k\n",
    "\n",
    "black_sphere=dict(type='surface',\n",
    "    x=xs_k,\n",
    "    y=ys_k,\n",
    "    z=zs_k,\n",
    "    colorscale=['black', 'black', 'black'],\n",
    "    surfacecolor=zs_k,\n",
    "    opacity=1.,\n",
    "    showscale=False,\n",
    "    hoverinfo='skip'\n",
    "    )"
   ]
  },
  {
   "cell_type": "markdown",
   "id": "2605c3eb",
   "metadata": {},
   "source": [
    "<h2 style='color:#b56576'>3. Earthquake Distribution Plot (Boundary)"
   ]
  },
  {
   "cell_type": "code",
   "execution_count": 18,
   "id": "ea5d4469",
   "metadata": {
    "ExecuteTime": {
     "end_time": "2021-06-16T06:32:04.351164Z",
     "start_time": "2021-06-16T06:31:53.063811Z"
    }
   },
   "outputs": [
    {
     "data": {
      "text/plain": [
       "'3DEarthquakeDistribution3.html'"
      ]
     },
     "execution_count": 18,
     "metadata": {},
     "output_type": "execute_result"
    }
   ],
   "source": [
    "seis_3D_depth = go.Scatter3d(x = xs_ev,\n",
    "                      y = ys_ev,\n",
    "                      z = zs_ev,\n",
    "                      mode='markers',\n",
    "                      name='measured',\n",
    "                      marker = dict(\n",
    "                          size = 1.*evMag,\n",
    "                          cmax = cmax,\n",
    "                          cmin = cmin,\n",
    "                          colorbar = dict(\n",
    "                              title = 'Source Depth',\n",
    "                              titleside = 'right',\n",
    "                              titlefont = dict(size = 16, \n",
    "                                               color = titlecolor,\n",
    "                                               family='Courier New'),\n",
    "                              tickmode = 'array',\n",
    "                              ticks = 'outside',\n",
    "                              ticktext = list(np.arange(cmin,cmax+cbin,cbin)),\n",
    "                              tickvals = list(np.arange(cmin,cmax+cbin,cbin)),\n",
    "                              tickcolor = titlecolor,\n",
    "                              tickfont = dict(size=14, color = titlecolor,\n",
    "                                             family='Courier New')\n",
    "                          ),\n",
    "                          ### choose color option\n",
    "                          color = evDepth,\n",
    "                          ### choose color option\n",
    "                          colorscale = Cscale_EQ,\n",
    "                          showscale = True,\n",
    "                          opacity=1.),\n",
    "                      hoverinfo='skip'\n",
    "                      )\n",
    "\n",
    "plot_data = dict(data=[boundaries, black_sphere, seis_3D_depth], layout=layout)\n",
    "fig = go.Figure(data = plot_data)\n",
    "fig.update_layout(title_text='3D Earthquake Distribution Map')\n",
    "\n",
    "plot(fig, validate=False, filename='3DEarthquakeDistribution3.html', auto_open=True)"
   ]
  }
 ],
 "metadata": {
  "kernelspec": {
   "display_name": "Python 3",
   "language": "python",
   "name": "python3"
  },
  "language_info": {
   "codemirror_mode": {
    "name": "ipython",
    "version": 3
   },
   "file_extension": ".py",
   "mimetype": "text/x-python",
   "name": "python",
   "nbconvert_exporter": "python",
   "pygments_lexer": "ipython3",
   "version": "3.9.5"
  }
 },
 "nbformat": 4,
 "nbformat_minor": 5
}
