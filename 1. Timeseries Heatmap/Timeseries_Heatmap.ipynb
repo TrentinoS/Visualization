{
 "cells": [
  {
   "cell_type": "markdown",
   "id": "9126f8d3",
   "metadata": {},
   "source": [
    "<b><i><h1 align = 'center' style='color:#34a0a4'>TimeSeries Heatmap</h1></i></b>"
   ]
  },
  {
   "cell_type": "markdown",
   "id": "152c68c4",
   "metadata": {},
   "source": [
    "<h2 align='center' style='color:#34a0a4'>Importing Required Modules</h2>"
   ]
  },
  {
   "cell_type": "code",
   "execution_count": 1,
   "id": "b137d4ce",
   "metadata": {
    "ExecuteTime": {
     "end_time": "2021-06-10T08:18:04.310355Z",
     "start_time": "2021-06-10T08:18:01.396756Z"
    }
   },
   "outputs": [],
   "source": [
    "import pandas as pd\n",
    "import streamlit as st\n",
    "import plotly.express as px\n",
    "import datetime\n",
    "import base64"
   ]
  },
  {
   "cell_type": "markdown",
   "id": "13fff504",
   "metadata": {},
   "source": [
    "<h2 align='center' style='color:#34a0a4'>HeatMap Function</h2>"
   ]
  },
  {
   "cell_type": "code",
   "execution_count": 2,
   "id": "a155fa72",
   "metadata": {
    "ExecuteTime": {
     "end_time": "2021-06-10T08:18:04.371356Z",
     "start_time": "2021-06-10T08:18:04.321358Z"
    }
   },
   "outputs": [],
   "source": [
    "def download_csv(name,df):\n",
    "\n",
    "    csv = df.to_csv()\n",
    "    base = base64.b64encode(csv.encode()).decode()\n",
    "    file = (f'<a href=\"data:file/csv;base64,{base}\" download=\"%s.csv\">Download file</a>' % (name))\n",
    "\n",
    "    return file\n",
    "\n",
    "\n",
    "def heatmap(df):\n",
    "\n",
    "    month_hours = {'January': {'12AM': None, '01AM': None, '02AM': None, '03AM': None, '04AM': None, '05AM': None,\n",
    "            '06AM': None, '07AM': None, '08AM': None, '09AM': None, '10AM': None, '11AM': None,\n",
    "            '12PM': None, '01PM': None, '02PM': None, '03PM': None, '04PM': None, '05PM': None,\n",
    "            '06PM': None, '07PM': None, '08PM': None, '09PM': None, '10PM': None, '11PM': None},\n",
    "\n",
    "    'February': {'12AM': None, '01AM': None, '02AM': None, '03AM': None, '04AM': None, '05AM': None,\n",
    "            '06AM': None, '07AM': None, '08AM': None, '09AM': None, '10AM': None, '11AM': None,\n",
    "            '12PM': None, '01PM': None, '02PM': None, '03PM': None, '04PM': None, '05PM': None,\n",
    "            '06PM': None, '07PM': None, '08PM': None, '09PM': None, '10PM': None, '11PM': None},\n",
    "\n",
    "    'March': {'12AM': None, '01AM': None, '02AM': None, '03AM': None, '04AM': None, '05AM': None,\n",
    "            '06AM': None, '07AM': None, '08AM': None, '09AM': None, '10AM': None, '11AM': None,\n",
    "            '12PM': None, '01PM': None, '02PM': None, '03PM': None, '04PM': None, '05PM': None,\n",
    "            '06PM': None, '07PM': None, '08PM': None, '09PM': None, '10PM': None, '11PM': None},\n",
    "\n",
    "    'April': {'12AM': None, '01AM': None, '02AM': None, '03AM': None, '04AM': None, '05AM': None,\n",
    "            '06AM': None, '07AM': None, '08AM': None, '09AM': None, '10AM': None, '11AM': None,\n",
    "            '12PM': None, '01PM': None, '02PM': None, '03PM': None, '04PM': None, '05PM': None,\n",
    "            '06PM': None, '07PM': None, '08PM': None, '09PM': None, '10PM': None, '11PM': None},\n",
    "\n",
    "    'May': {'12AM': None, '01AM': None, '02AM': None, '03AM': None, '04AM': None, '05AM': None,\n",
    "            '06AM': None, '07AM': None, '08AM': None, '09AM': None, '10AM': None, '11AM': None,\n",
    "            '12PM': None, '01PM': None, '02PM': None, '03PM': None, '04PM': None, '05PM': None,\n",
    "            '06PM': None, '07PM': None, '08PM': None, '09PM': None, '10PM': None, '11PM': None},\n",
    "\n",
    "    'June': {'12AM': None, '01AM': None, '02AM': None, '03AM': None, '04AM': None, '05AM': None,\n",
    "            '06AM': None, '07AM': None, '08AM': None, '09AM': None, '10AM': None, '11AM': None,\n",
    "            '12PM': None, '01PM': None, '02PM': None, '03PM': None, '04PM': None, '05PM': None,\n",
    "            '06PM': None, '07PM': None, '08PM': None, '09PM': None, '10PM': None, '11PM': None},\n",
    "\n",
    "    'July': {'12AM': None, '01AM': None, '02AM': None, '03AM': None, '04AM': None, '05AM': None,\n",
    "            '06AM': None, '07AM': None, '08AM': None, '09AM': None, '10AM': None, '11AM': None,\n",
    "            '12PM': None, '01PM': None, '02PM': None, '03PM': None, '04PM': None, '05PM': None,\n",
    "            '06PM': None, '07PM': None, '08PM': None, '09PM': None, '10PM': None, '11PM': None},\n",
    "\n",
    "    'August': {'12AM': None, '01AM': None, '02AM': None, '03AM': None, '04AM': None, '05AM': None,\n",
    "            '06AM': None, '07AM': None, '08AM': None, '09AM': None, '10AM': None, '11AM': None,\n",
    "            '12PM': None, '01PM': None, '02PM': None, '03PM': None, '04PM': None, '05PM': None,\n",
    "            '06PM': None, '07PM': None, '08PM': None, '09PM': None, '10PM': None, '11PM': None},\n",
    "\n",
    "    'September': {'12AM': None, '01AM': None, '02AM': None, '03AM': None, '04AM': None, '05AM': None,\n",
    "            '06AM': None, '07AM': None, '08AM': None, '09AM': None, '10AM': None, '11AM': None,\n",
    "            '12PM': None, '01PM': None, '02PM': None, '03PM': None, '04PM': None, '05PM': None,\n",
    "            '06PM': None, '07PM': None, '08PM': None, '09PM': None, '10PM': None, '11PM': None},\n",
    "\n",
    "    'October': {'12AM': None, '01AM': None, '02AM': None, '03AM': None, '04AM': None, '05AM': None,\n",
    "            '06AM': None, '07AM': None, '08AM': None, '09AM': None, '10AM': None, '11AM': None,\n",
    "            '12PM': None, '01PM': None, '02PM': None, '03PM': None, '04PM': None, '05PM': None,\n",
    "            '06PM': None, '07PM': None, '08PM': None, '09PM': None, '10PM': None, '11PM': None},\n",
    "\n",
    "    'November': {'12AM': None, '01AM': None, '02AM': None, '03AM': None, '04AM': None, '05AM': None,\n",
    "            '06AM': None, '07AM': None, '08AM': None, '09AM': None, '10AM': None, '11AM': None,\n",
    "            '12PM': None, '01PM': None, '02PM': None, '03PM': None, '04PM': None, '05PM': None,\n",
    "            '06PM': None, '07PM': None, '08PM': None, '09PM': None, '10PM': None, '11PM': None},\n",
    "\n",
    "    'December': {'12AM': None, '01AM': None, '02AM': None, '03AM': None, '04AM': None, '05AM': None,\n",
    "            '06AM': None, '07AM': None, '08AM': None, '09AM': None, '10AM': None, '11AM': None,\n",
    "            '12PM': None, '01PM': None, '02PM': None, '03PM': None, '04PM': None, '05PM': None,\n",
    "            '06PM': None, '07PM': None, '08PM': None, '09PM': None, '10PM': None, '11PM': None}\n",
    "    }\n",
    "\n",
    "    for i in range(len(df)):\n",
    "        month_hours[df.iloc[i][0]][df.iloc[i][1]] = df.loc[i]['Value']\n",
    "\n",
    "    data_rows = list(month_hours.values())\n",
    "    data = []\n",
    "\n",
    "    for i in range(0,len(data_rows)):\n",
    "        data.append(list(data_rows[i].values()))\n",
    "\n",
    "    fig = px.imshow(data,\n",
    "                    labels=dict(x=\"Hour\", y=\"Month\", color=\"Value\"),\n",
    "                    x=['12AM','01AM','02AM','03AM','04AM','05AM',\n",
    "                    '06AM','07AM','08AM','09AM','10AM','11AM',\n",
    "                    '12PM','01PM','02PM','03PM','04PM','05PM',\n",
    "                    '06PM','07PM','08PM','09PM','10PM','11PM'],\n",
    "                    y=['January','February','March','April','May','June',\n",
    "                        'July','August','September','October','November','December']\n",
    "                    )\n",
    "\n",
    "    st.write(fig)\n",
    "\n",
    "    return month_hours\n"
   ]
  },
  {
   "cell_type": "markdown",
   "id": "dea40cab",
   "metadata": {},
   "source": [
    "<h2 align='center' style='color:#34a0a4'>Loading Data</h2>"
   ]
  },
  {
   "cell_type": "code",
   "execution_count": 3,
   "id": "12389932",
   "metadata": {
    "ExecuteTime": {
     "end_time": "2021-06-10T08:18:32.009737Z",
     "start_time": "2021-06-10T08:18:04.374356Z"
    }
   },
   "outputs": [
    {
     "name": "stderr",
     "output_type": "stream",
     "text": [
      "2021-06-10 13:48:30.533 WARNING root: \n",
      "  \u001b[33m\u001b[1mWarning:\u001b[0m to view this Streamlit app on a browser, run it with the following\n",
      "  command:\n",
      "\n",
      "    streamlit run c:\\users\\trentino pc\\appdata\\local\\programs\\python\\python39\\lib\\site-packages\\ipykernel_launcher.py [ARGUMENTS]\n"
     ]
    }
   ],
   "source": [
    "if __name__ == '__main__':\n",
    "\n",
    "    df = pd.read_csv('data.csv')\n",
    "\n",
    "    for i in range(0,len(df)):\n",
    "        while len(str(df.iloc[i][1]).replace('.0','')) < 4:\n",
    "            df.iloc[i,1] = '0' + str(df.iloc[i][1]).replace('.0','')\n",
    "\n",
    "        temp = datetime.datetime.strptime(str(df.iloc[i][0]).replace('.0','') + str(df.iloc[i][1]).replace('.0',''),'%Y%m%d%H%M')\n",
    "        df.iloc[i,0] = temp.strftime('%B')\n",
    "        df.iloc[i,1] = temp.strftime('%I%p')\n",
    "\n",
    "    df = df.rename(columns={\"Date\": \"Month\", \"Time\": \"Hour\"})\n",
    "    df = df.groupby(['Month','Hour'],sort=False,as_index=False).mean().round(1)\n",
    "\n",
    "    st.title('Month vs. Hour Heatmap')\n",
    "    heatmap_df = heatmap(df)\n",
    "    st.title('Dataframe')\n",
    "    st.dataframe(heatmap_df)\n",
    "    st.markdown(download_csv('Heatmap Dataframe',pd.DataFrame(heatmap_df)),unsafe_allow_html=True)"
   ]
  }
 ],
 "metadata": {
  "kernelspec": {
   "display_name": "Python 3",
   "language": "python",
   "name": "python3"
  },
  "language_info": {
   "codemirror_mode": {
    "name": "ipython",
    "version": 3
   },
   "file_extension": ".py",
   "mimetype": "text/x-python",
   "name": "python",
   "nbconvert_exporter": "python",
   "pygments_lexer": "ipython3",
   "version": "3.9.5"
  }
 },
 "nbformat": 4,
 "nbformat_minor": 5
}
